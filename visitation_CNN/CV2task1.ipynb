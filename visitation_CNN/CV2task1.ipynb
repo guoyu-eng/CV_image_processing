{
  "nbformat": 4,
  "nbformat_minor": 0,
  "metadata": {
    "colab": {
      "provenance": []
    },
    "kernelspec": {
      "name": "python3",
      "display_name": "Python 3"
    },
    "language_info": {
      "name": "python"
    },
    "accelerator": "GPU"
  },
  "cells": [
    {
      "cell_type": "markdown",
      "metadata": {
        "id": "vXn_9vTcTXYA"
      },
      "source": [
        "## Semantic segmentation ##\n",
        ""
      ]
    },
    {
      "cell_type": "markdown",
      "metadata": {
        "id": "pY7mhrSibHXn"
      },
      "source": [
        "1. Follow the tutorial at https://github.com/divamgupta/image-segmentation-keras which includes colab work sheet (https://colab.research.google.com/drive/1q_eCYEzKxixpCKH1YDsLnsvgxl92ORcv?usp=sharing). Try the given example."
      ]
    },
    {
      "cell_type": "markdown",
      "source": [],
      "metadata": {
        "id": "_ZcxQSg-Q1Qu"
      }
    },
    {
      "cell_type": "markdown",
      "metadata": {
        "id": "ha1kdLPIb5zU"
      },
      "source": [
        "2. The github repository contains implementations for various semantic segmentation frameworks. Modify the code to use fully convolutional network (fcn_32 defined in keras_segmentation.models.fcn). Compare the results."
      ]
    },
    {
      "cell_type": "markdown",
      "source": [],
      "metadata": {
        "id": "txR8x_mURbLh"
      }
    },
    {
      "cell_type": "markdown",
      "metadata": {
        "id": "ZJmV4CzceMMg"
      },
      "source": [
        "## Class Activity Mapping ##"
      ]
    },
    {
      "cell_type": "markdown",
      "metadata": {
        "id": "BuH9Np3NePvx"
      },
      "source": [
        "1. Following the tutorial for tf-keras-vis, visualise CAM for the Fashion MNIST model from the last lecture.  https://github.com/keisen/tf-keras-vis/blob/master/docs/examples/attentions.ipynb."
      ]
    },
    {
      "cell_type": "code",
      "metadata": {
        "colab": {
          "base_uri": "https://localhost:8080/"
        },
        "id": "E4CTFkdLfg1F",
        "outputId": "56af73a2-1e64-4bb1-d930-dd926eb1485c"
      },
      "source": [
        "# We use Fashion MNIST dataset, which is provided by Keras\n",
        "# The following is the code to load data etc. same as last session\n",
        "\n",
        "# import Keras & Tensorflow\n",
        "import tensorflow as tf\n",
        "from tensorflow import keras\n",
        "\n",
        "# Load image data\n",
        "fashion_mnist = keras.datasets.fashion_mnist\n",
        "(x_train, y_train), (x_test, y_test) = fashion_mnist.load_data()\n",
        "class_names = [\"T-shirt/top\", \"Trouser\", \"Pullover\", \"Dress\", \"Coat\", \"Sandal\", \"Shirt\", \"Sneaker\", \"Bag\", \"Ankle boot\"]\n",
        "\n",
        "# Data preparation:\n",
        "#   Map intensities from [0--255] to 0.0--1.0\n",
        "x_train = x_train / 255.0\n",
        "x_test = x_test / 255.0\n",
        "\n",
        "early_stopping_cb = keras.callbacks.EarlyStopping(patience=10, restore_best_weights=True)\n",
        "model = keras.models.Sequential([\n",
        "    keras.layers.Conv2D(64, 7, activation=\"relu\", padding=\"same\",\n",
        "                        input_shape=[28, 28, 1]),\n",
        "    keras.layers.MaxPooling2D(2),\n",
        "    keras.layers.Conv2D(128, 3, activation=\"relu\", padding=\"same\"),\n",
        "    keras.layers.Conv2D(128, 3, activation=\"relu\", padding=\"same\"),\n",
        "    keras.layers.MaxPooling2D(2),\n",
        "    keras.layers.Conv2D(256, 3, activation=\"relu\", padding=\"same\"),\n",
        "    keras.layers.Conv2D(256, 3, activation=\"relu\", padding=\"same\"),\n",
        "    keras.layers.MaxPooling2D(2),\n",
        "    keras.layers.Flatten(),\n",
        "    keras.layers.Dense(128, activation=\"relu\"),\n",
        "    keras.layers.Dropout(0.5),\n",
        "    keras.layers.Dense(64, activation=\"relu\"),\n",
        "    keras.layers.Dropout(0.5),\n",
        "    keras.layers.Dense(10, activation=\"softmax\")\n",
        "])\n",
        "model.compile(loss = \"sparse_categorical_crossentropy\", optimizer=\"sgd\", metrics = [\"accuracy\"])\n",
        "# reshape: map data to 4D, with the last dimension of 1 channel (grayscale)\n",
        "history = model.fit(x_train.reshape((x_train.shape[0], 28, 28, 1)), y_train, epochs = 60, validation_split=0.1, callbacks=[early_stopping_cb])\n",
        "model.evaluate(x_test.reshape(x_test.shape[0], 28, 28, 1), y_test)"
      ],
      "execution_count": null,
      "outputs": [
        {
          "output_type": "stream",
          "text": [
            "Downloading data from https://storage.googleapis.com/tensorflow/tf-keras-datasets/train-labels-idx1-ubyte.gz\n",
            "32768/29515 [=================================] - 0s 0us/step\n",
            "Downloading data from https://storage.googleapis.com/tensorflow/tf-keras-datasets/train-images-idx3-ubyte.gz\n",
            "26427392/26421880 [==============================] - 0s 0us/step\n",
            "Downloading data from https://storage.googleapis.com/tensorflow/tf-keras-datasets/t10k-labels-idx1-ubyte.gz\n",
            "8192/5148 [===============================================] - 0s 0us/step\n",
            "Downloading data from https://storage.googleapis.com/tensorflow/tf-keras-datasets/t10k-images-idx3-ubyte.gz\n",
            "4423680/4422102 [==============================] - 0s 0us/step\n",
            "Epoch 1/60\n",
            "1688/1688 [==============================] - 12s 7ms/step - loss: 1.8318 - accuracy: 0.3220 - val_loss: 0.6854 - val_accuracy: 0.7408\n",
            "Epoch 2/60\n",
            "1688/1688 [==============================] - 11s 6ms/step - loss: 0.8508 - accuracy: 0.6859 - val_loss: 0.5368 - val_accuracy: 0.7907\n",
            "Epoch 3/60\n",
            "1688/1688 [==============================] - 11s 6ms/step - loss: 0.6659 - accuracy: 0.7533 - val_loss: 0.4672 - val_accuracy: 0.8232\n",
            "Epoch 4/60\n",
            "1688/1688 [==============================] - 11s 6ms/step - loss: 0.5861 - accuracy: 0.7889 - val_loss: 0.4420 - val_accuracy: 0.8362\n",
            "Epoch 5/60\n",
            "1688/1688 [==============================] - 11s 6ms/step - loss: 0.5378 - accuracy: 0.8078 - val_loss: 0.4081 - val_accuracy: 0.8492\n",
            "Epoch 6/60\n",
            "1688/1688 [==============================] - 11s 6ms/step - loss: 0.4974 - accuracy: 0.8243 - val_loss: 0.3943 - val_accuracy: 0.8537\n",
            "Epoch 7/60\n",
            "1688/1688 [==============================] - 11s 6ms/step - loss: 0.4685 - accuracy: 0.8359 - val_loss: 0.3839 - val_accuracy: 0.8570\n",
            "Epoch 8/60\n",
            "1688/1688 [==============================] - 11s 6ms/step - loss: 0.4414 - accuracy: 0.8459 - val_loss: 0.3524 - val_accuracy: 0.8657\n",
            "Epoch 9/60\n",
            "1688/1688 [==============================] - 11s 6ms/step - loss: 0.4221 - accuracy: 0.8542 - val_loss: 0.3517 - val_accuracy: 0.8675\n",
            "Epoch 10/60\n",
            "1688/1688 [==============================] - 11s 6ms/step - loss: 0.4033 - accuracy: 0.8562 - val_loss: 0.3351 - val_accuracy: 0.8742\n",
            "Epoch 11/60\n",
            "1688/1688 [==============================] - 11s 6ms/step - loss: 0.3923 - accuracy: 0.8635 - val_loss: 0.3258 - val_accuracy: 0.8803\n",
            "Epoch 12/60\n",
            "1688/1688 [==============================] - 11s 6ms/step - loss: 0.3688 - accuracy: 0.8711 - val_loss: 0.3206 - val_accuracy: 0.8817\n",
            "Epoch 13/60\n",
            "1688/1688 [==============================] - 11s 6ms/step - loss: 0.3724 - accuracy: 0.8699 - val_loss: 0.3160 - val_accuracy: 0.8823\n",
            "Epoch 14/60\n",
            "1688/1688 [==============================] - 11s 6ms/step - loss: 0.3553 - accuracy: 0.8761 - val_loss: 0.3016 - val_accuracy: 0.8853\n",
            "Epoch 15/60\n",
            "1688/1688 [==============================] - 11s 7ms/step - loss: 0.3430 - accuracy: 0.8795 - val_loss: 0.2942 - val_accuracy: 0.8873\n",
            "Epoch 16/60\n",
            "1688/1688 [==============================] - 11s 6ms/step - loss: 0.3387 - accuracy: 0.8813 - val_loss: 0.3077 - val_accuracy: 0.8842\n",
            "Epoch 17/60\n",
            "1688/1688 [==============================] - 11s 6ms/step - loss: 0.3257 - accuracy: 0.8855 - val_loss: 0.3000 - val_accuracy: 0.8935\n",
            "Epoch 18/60\n",
            "1688/1688 [==============================] - 11s 6ms/step - loss: 0.3134 - accuracy: 0.8920 - val_loss: 0.2986 - val_accuracy: 0.8860\n",
            "Epoch 19/60\n",
            "1688/1688 [==============================] - 11s 6ms/step - loss: 0.3113 - accuracy: 0.8934 - val_loss: 0.2822 - val_accuracy: 0.8962\n",
            "Epoch 20/60\n",
            "1688/1688 [==============================] - 11s 6ms/step - loss: 0.3030 - accuracy: 0.8936 - val_loss: 0.3062 - val_accuracy: 0.8922\n",
            "Epoch 21/60\n",
            "1688/1688 [==============================] - 11s 7ms/step - loss: 0.2924 - accuracy: 0.8968 - val_loss: 0.2677 - val_accuracy: 0.8998\n",
            "Epoch 22/60\n",
            "1688/1688 [==============================] - 11s 6ms/step - loss: 0.2868 - accuracy: 0.8997 - val_loss: 0.2818 - val_accuracy: 0.8968\n",
            "Epoch 23/60\n",
            "1688/1688 [==============================] - 11s 7ms/step - loss: 0.2818 - accuracy: 0.9034 - val_loss: 0.2612 - val_accuracy: 0.9062\n",
            "Epoch 24/60\n",
            "1688/1688 [==============================] - 11s 6ms/step - loss: 0.2678 - accuracy: 0.9046 - val_loss: 0.2978 - val_accuracy: 0.8960\n",
            "Epoch 25/60\n",
            "1688/1688 [==============================] - 11s 6ms/step - loss: 0.2617 - accuracy: 0.9103 - val_loss: 0.2639 - val_accuracy: 0.9007\n",
            "Epoch 26/60\n",
            "1688/1688 [==============================] - 11s 6ms/step - loss: 0.2560 - accuracy: 0.9114 - val_loss: 0.2762 - val_accuracy: 0.8987\n",
            "Epoch 27/60\n",
            "1688/1688 [==============================] - 11s 7ms/step - loss: 0.2521 - accuracy: 0.9107 - val_loss: 0.2560 - val_accuracy: 0.9082\n",
            "Epoch 28/60\n",
            "1688/1688 [==============================] - 11s 7ms/step - loss: 0.2421 - accuracy: 0.9151 - val_loss: 0.2602 - val_accuracy: 0.9085\n",
            "Epoch 29/60\n",
            "1688/1688 [==============================] - 11s 7ms/step - loss: 0.2395 - accuracy: 0.9168 - val_loss: 0.2724 - val_accuracy: 0.9087\n",
            "Epoch 30/60\n",
            "1688/1688 [==============================] - 11s 7ms/step - loss: 0.2323 - accuracy: 0.9177 - val_loss: 0.2726 - val_accuracy: 0.9058\n",
            "Epoch 31/60\n",
            "1688/1688 [==============================] - 11s 7ms/step - loss: 0.2248 - accuracy: 0.9201 - val_loss: 0.2721 - val_accuracy: 0.9018\n",
            "Epoch 32/60\n",
            "1688/1688 [==============================] - 11s 7ms/step - loss: 0.2181 - accuracy: 0.9222 - val_loss: 0.2854 - val_accuracy: 0.9070\n",
            "Epoch 33/60\n",
            "1688/1688 [==============================] - 11s 7ms/step - loss: 0.2147 - accuracy: 0.9235 - val_loss: 0.2570 - val_accuracy: 0.9053\n",
            "Epoch 34/60\n",
            "1688/1688 [==============================] - 11s 7ms/step - loss: 0.2073 - accuracy: 0.9289 - val_loss: 0.2578 - val_accuracy: 0.9118\n",
            "Epoch 35/60\n",
            "1688/1688 [==============================] - 11s 7ms/step - loss: 0.2074 - accuracy: 0.9264 - val_loss: 0.2602 - val_accuracy: 0.9120\n",
            "Epoch 36/60\n",
            "1688/1688 [==============================] - 11s 7ms/step - loss: 0.2014 - accuracy: 0.9293 - val_loss: 0.2750 - val_accuracy: 0.9100\n",
            "Epoch 37/60\n",
            "1688/1688 [==============================] - 11s 7ms/step - loss: 0.1898 - accuracy: 0.9320 - val_loss: 0.2560 - val_accuracy: 0.9128\n",
            "Epoch 38/60\n",
            "1688/1688 [==============================] - 11s 7ms/step - loss: 0.1894 - accuracy: 0.9324 - val_loss: 0.2779 - val_accuracy: 0.9097\n",
            "Epoch 39/60\n",
            "1688/1688 [==============================] - 11s 7ms/step - loss: 0.1764 - accuracy: 0.9373 - val_loss: 0.2766 - val_accuracy: 0.9115\n",
            "Epoch 40/60\n",
            "1688/1688 [==============================] - 11s 7ms/step - loss: 0.1729 - accuracy: 0.9378 - val_loss: 0.2688 - val_accuracy: 0.9167\n",
            "Epoch 41/60\n",
            "1688/1688 [==============================] - 11s 7ms/step - loss: 0.1756 - accuracy: 0.9379 - val_loss: 0.2549 - val_accuracy: 0.9147\n",
            "Epoch 42/60\n",
            "1688/1688 [==============================] - 11s 7ms/step - loss: 0.1679 - accuracy: 0.9403 - val_loss: 0.2777 - val_accuracy: 0.9110\n",
            "Epoch 43/60\n",
            "1688/1688 [==============================] - 11s 7ms/step - loss: 0.1632 - accuracy: 0.9427 - val_loss: 0.2704 - val_accuracy: 0.9107\n",
            "Epoch 44/60\n",
            "1688/1688 [==============================] - 11s 7ms/step - loss: 0.1581 - accuracy: 0.9432 - val_loss: 0.2661 - val_accuracy: 0.9113\n",
            "Epoch 45/60\n",
            "1688/1688 [==============================] - 11s 7ms/step - loss: 0.1550 - accuracy: 0.9447 - val_loss: 0.2673 - val_accuracy: 0.9143\n",
            "Epoch 46/60\n",
            "1688/1688 [==============================] - 11s 7ms/step - loss: 0.1534 - accuracy: 0.9448 - val_loss: 0.2770 - val_accuracy: 0.9167\n",
            "Epoch 47/60\n",
            "1688/1688 [==============================] - 11s 7ms/step - loss: 0.1487 - accuracy: 0.9475 - val_loss: 0.2984 - val_accuracy: 0.9137\n",
            "Epoch 48/60\n",
            "1688/1688 [==============================] - 11s 7ms/step - loss: 0.1436 - accuracy: 0.9500 - val_loss: 0.2733 - val_accuracy: 0.9163\n",
            "Epoch 49/60\n",
            "1688/1688 [==============================] - 11s 7ms/step - loss: 0.1384 - accuracy: 0.9479 - val_loss: 0.3039 - val_accuracy: 0.9153\n",
            "Epoch 50/60\n",
            "1688/1688 [==============================] - 11s 7ms/step - loss: 0.1361 - accuracy: 0.9516 - val_loss: 0.2829 - val_accuracy: 0.9187\n",
            "Epoch 51/60\n",
            "1688/1688 [==============================] - 11s 7ms/step - loss: 0.1330 - accuracy: 0.9523 - val_loss: 0.2973 - val_accuracy: 0.9110\n",
            "313/313 [==============================] - 1s 3ms/step - loss: 0.2816 - accuracy: 0.9113\n"
          ],
          "name": "stdout"
        },
        {
          "output_type": "execute_result",
          "data": {
            "text/plain": [
              "[0.2816052734851837, 0.911300003528595]"
            ]
          },
          "metadata": {
            "tags": []
          },
          "execution_count": 5
        }
      ]
    },
    {
      "cell_type": "code",
      "metadata": {
        "colab": {
          "base_uri": "https://localhost:8080/",
          "height": 282
        },
        "id": "I4_17SLdgc3X",
        "outputId": "d3cfe058-0224-4cdd-a11b-665ec79612ed"
      },
      "source": [
        "# Take the first test as an example\n",
        "import numpy as np\n",
        "import matplotlib.pyplot as plt\n",
        "plt.imshow(x_test[0, ], cmap = 'gray')\n",
        "plt.show()\n",
        "print(y_test[0])"
      ],
      "execution_count": null,
      "outputs": [
        {
          "output_type": "display_data",
          "data": {
            "image/png": "[encoded data removed]",
            "text/plain": [
              "<Figure size 432x288 with 1 Axes>"
            ]
          },
          "metadata": {
            "tags": [],
            "needs_background": "light"
          }
        },
        {
          "output_type": "stream",
          "text": [
            "9\n"
          ],
          "name": "stdout"
        }
      ]
    },
    {
      "cell_type": "code",
      "metadata": {
        "id": "PmN8CE3Oe3H5"
      },
      "source": [
        "# install/upgrade packages\n",
        "!pip install --upgrade tf-keras-vis tensorflow matplotlib"
      ],
      "execution_count": null,
      "outputs": []
    }
  ]
}